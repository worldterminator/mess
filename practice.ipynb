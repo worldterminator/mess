{
  "nbformat": 4,
  "nbformat_minor": 0,
  "metadata": {
    "colab": {
      "provenance": [],
      "authorship_tag": "ABX9TyMlLNoUSQ8QD6WTXfgX3Xfp",
      "include_colab_link": true
    },
    "kernelspec": {
      "name": "python3",
      "display_name": "Python 3"
    },
    "language_info": {
      "name": "python"
    }
  },
  "cells": [
    {
      "cell_type": "markdown",
      "metadata": {
        "id": "view-in-github",
        "colab_type": "text"
      },
      "source": [
        "<a href=\"https://colab.research.google.com/github/worldterminator/mess/blob/main/practice.ipynb\" target=\"_parent\"><img src=\"https://colab.research.google.com/assets/colab-badge.svg\" alt=\"Open In Colab\"/></a>"
      ]
    },
    {
      "cell_type": "code",
      "execution_count": 2,
      "metadata": {
        "colab": {
          "base_uri": "https://localhost:8080/"
        },
        "id": "Is3GLxjZ3sLb",
        "outputId": "9807504b-0d30-47b1-b366-01ab9e163438"
      },
      "outputs": [
        {
          "output_type": "stream",
          "name": "stdout",
          "text": [
            "['F']\n"
          ]
        }
      ],
      "source": [
        "from sklearn.neighbors import KNeighborsClassifier\n",
        "import pandas as pd\n",
        "import numpy as np\n",
        "\n",
        "# Data\n",
        "data = {\n",
        "    \"Gender\": [\"M\", \"F\", \"M\", \"M\", \"F\", \"F\", \"F\", \"M\", \"NA\"],\n",
        "    \"Height\": [71, 66, 72, 63, 65, 65, 66, 74, 65],\n",
        "    \"Weight\": [180, 120, 208, 110, 150, 114, 128, 235, 140],\n",
        "    \"scaled.H\": [0.9249, -0.3757, 1.1851, -1.1561, -0.6359, -0.6359, -0.3757, 1.7053, -0.6359],\n",
        "    \"scaled.W\": [0.5888, -0.7642, 1.2202, -0.9897, -0.0877, -0.8995, -0.5838, 1.8290, -0.3132],\n",
        "    \"dist\": [1.8027, 0.5206, 2.3806, 0.8534, 0.2255, 0.5863, 0.3754, 3.1734, np.nan],\n",
        "    \"rank\": [6, 3, 7, 5, 1, 4, 2, 8, np.nan]\n",
        "}\n",
        "\n",
        "# Convert to DataFrame\n",
        "df = pd.DataFrame(data)\n",
        "\n",
        "# Remove the row with NA gender for training data\n",
        "train_df = df.dropna(subset=[\"Gender\"])\n",
        "\n",
        "# Separate features (excluding 'dist' and 'rank') and labels\n",
        "features = train_df[[\"Height\", \"Weight\", \"scaled.H\", \"scaled.W\"]].values\n",
        "labels = train_df[\"Gender\"].values\n",
        "\n",
        "# KNN Classifier\n",
        "knn = KNeighborsClassifier(n_neighbors=7)\n",
        "\n",
        "# Train the classifier\n",
        "knn.fit(features, labels)\n",
        "\n",
        "# Predict for the unlabeled point (excluding 'dist' and 'rank' from features)\n",
        "unlabeled_point = df[df[\"Gender\"] == \"NA\"][[\"Height\", \"Weight\", \"scaled.H\", \"scaled.W\"]].values\n",
        "prediction = knn.predict(unlabeled_point)\n",
        "\n",
        "# Print or use the prediction as needed\n",
        "print(prediction)\n"
      ]
    },
    {
      "cell_type": "code",
      "source": [
        "# Define the points\n",
        "p = (1, 0, -2)\n",
        "q = (3, 1, -1)\n",
        "\n",
        "# Calculate each component of the formula\n",
        "diff_sq = [(p_i - q_i) ** 2 for p_i, q_i in zip(p, q)]\n",
        "\n",
        "# Sum the squared differences and take the square root\n",
        "euclidean_dist_manual = sum(diff_sq) ** 0.5\n",
        "\n",
        "euclidean_dist_manual\n"
      ],
      "metadata": {
        "id": "SXfp1ffk-RcV"
      },
      "execution_count": null,
      "outputs": []
    }
  ]
}