{
  "nbformat": 4,
  "nbformat_minor": 0,
  "metadata": {
    "colab": {
      "provenance": [],
      "authorship_tag": "ABX9TyPcQJdylJHXsMDqliSShWMG",
      "include_colab_link": true
    },
    "kernelspec": {
      "name": "python3",
      "display_name": "Python 3"
    },
    "language_info": {
      "name": "python"
    }
  },
  "cells": [
    {
      "cell_type": "markdown",
      "metadata": {
        "id": "view-in-github",
        "colab_type": "text"
      },
      "source": [
        "<a href=\"https://colab.research.google.com/github/worldterminator/mess/blob/main/hungergame.ipynb\" target=\"_parent\"><img src=\"https://colab.research.google.com/assets/colab-badge.svg\" alt=\"Open In Colab\"/></a>"
      ]
    },
    {
      "cell_type": "code",
      "execution_count": 1,
      "metadata": {
        "id": "12pBj6mAH6YB",
        "colab": {
          "base_uri": "https://localhost:8080/"
        },
        "outputId": "fc407007-8dbb-4597-9c63-d58228a3bae7"
      },
      "outputs": [
        {
          "output_type": "stream",
          "name": "stdout",
          "text": [
            "\u001b[2K     \u001b[90m━━━━━━━━━━━━━━━━━━━━━━━━━━━━━━━━━━━━━━━━\u001b[0m \u001b[32m26.6/26.6 MB\u001b[0m \u001b[31m23.1 MB/s\u001b[0m eta \u001b[36m0:00:00\u001b[0m\n",
            "\u001b[?25h  Preparing metadata (setup.py) ... \u001b[?25l\u001b[?25hdone\n",
            "\u001b[2K   \u001b[90m━━━━━━━━━━━━━━━━━━━━━━━━━━━━━━━━━━━━━━━━\u001b[0m \u001b[32m355.9/355.9 kB\u001b[0m \u001b[31m31.2 MB/s\u001b[0m eta \u001b[36m0:00:00\u001b[0m\n",
            "\u001b[?25h  Building wheel for censusdata (setup.py) ... \u001b[?25l\u001b[?25hdone\n"
          ]
        }
      ],
      "source": [
        "!pip -q install censusdata us requests pandas\n",
        "\n",
        "import os, io, zipfile, requests, pandas as pd\n",
        "import censusdata as cd\n",
        "from us import states\n",
        "\n",
        "# Get one: https://api.census.gov/data/key_signup.html\n",
        "os.environ['CENSUS_KEY'] = ''\n",
        "API_KEY = os.environ.get('CENSUS_KEY', None)\n",
        "\n",
        "YEAR = 2022   # 2018–2022 5-year\n",
        "DATASET_PROFILE = 'acs/acs5/profile'\n",
        "DATASET_SUBJECT = 'acs/acs5/subject'\n",
        "DATASET_DETAILED = 'acs/acs5'\n"
      ]
    },
    {
      "cell_type": "code",
      "source": [
        "VARS_PROFILE = [\n",
        "    # Demography\n",
        "    \"DP05_0019PE\",\"DP05_0024PE\",\"DP05_0071PE\",\"DP05_0078PE\",\"DP05_0079PE\",\"DP05_0080PE\",\n",
        "    \"DP02_0093PE\",\"DP02_0113PE\",\n",
        "    # Socioeconomic\n",
        "    \"DP03_0119PE\",\"DP03_0062E\",\"DP03_0005PE\",\"DP03_0002PE\",\"DP02_0060PE\",\"DP02_0068PE\",\n",
        "    \"DP03_0074PE\",\"DP03_0099PE\",\"DP02_0072PE\",\n",
        "    # Household structure\n",
        "    \"DP02_0013PE\",\"DP02_0011PE\",\n",
        "    # Housing / transport\n",
        "    \"DP04_0046PE\",\"DP04_0047PE\",\"DP04_0003PE\",\"DP04_0078PE\",\"DP04_0089PE\",\"DP04_0090PE\",\n",
        "    \"DP04_0134E\",\"DP04_0139PE\",\"DP04_0089E\",\"DP04_0058PE\",\n",
        "    \"DP03_0025E\",\"DP03_0011PE\",\"DP03_0012PE\",\"DP03_0013PE\",\"DP03_0016PE\",\"DP03_0017PE\",\"DP03_0024PE\",\n",
        "    \"DP02_0154PE\"  # broadband subscription (%)\n",
        "]"
      ],
      "metadata": {
        "id": "XotjLxKoTGtd"
      },
      "execution_count": 37,
      "outputs": []
    },
    {
      "cell_type": "code",
      "source": [
        "VARS_DETAILED = [\n",
        "    \"B01003_001E\",   # total population\n",
        "    \"B19083_001E\"    # Gini index\n",
        "]"
      ],
      "metadata": {
        "id": "IK3ocP_ZrUzS"
      },
      "execution_count": 38,
      "outputs": []
    },
    {
      "cell_type": "code",
      "source": [
        "RENAME_MAP = {\n",
        "    \"B01003_001E\":\"pop_total\",\n",
        "    \"B19083_001E\":\"gini_index\",\n",
        "    \"DP05_0019PE\":\"pct_under_18\",\n",
        "    \"DP05_0024PE\":\"pct_65plus\",\n",
        "    \"DP05_0071PE\":\"pct_hispanic\",\n",
        "    \"DP05_0078PE\":\"pct_black\",\n",
        "    \"DP05_0079PE\":\"pct_aian\",\n",
        "    \"DP05_0080PE\":\"pct_asian\",\n",
        "    \"DP02_0093PE\":\"pct_foreign_born\",\n",
        "    \"DP02_0113PE\":\"pct_limited_english\",\n",
        "    \"DP03_0119PE\":\"pct_poverty\",\n",
        "    \"DP03_0062E\":\"med_hh_income\",\n",
        "    \"DP03_0005PE\":\"pct_unemployed\",\n",
        "    \"DP03_0002PE\":\"pct_in_labor_force\",\n",
        "    \"DP02_0060PE\":\"pct_less_than_hs\",\n",
        "    \"DP02_0068PE\":\"pct_ba_plus\",\n",
        "    \"DP03_0074PE\":\"pct_snap_households\",\n",
        "    \"DP03_0099PE\":\"pct_uninsured\",\n",
        "    \"DP02_0072PE\":\"pct_disability\",\n",
        "    \"DP02_0013PE\":\"pct_female_head_fam_with_children\",\n",
        "    \"DP02_0011PE\":\"pct_single_parent_hh\",\n",
        "    \"DP04_0046PE\":\"pct_owner_occupied\",\n",
        "    \"DP04_0047PE\":\"pct_renter_occupied\",\n",
        "    \"DP04_0003PE\":\"housing_vacancy_rate\",\n",
        "    \"DP04_0078PE\":\"pct_overcrowded_gt1pproom\",\n",
        "    \"DP04_0089PE\":\"pct_lacking_complete_kitchen\",\n",
        "    \"DP04_0090PE\":\"pct_lacking_complete_plumbing\",\n",
        "    \"DP04_0134E\":\"median_gross_rent\",\n",
        "    \"DP04_0139PE\":\"pct_rent_ge_30pct_income\",\n",
        "    \"DP04_0089E\":\"median_home_value\",\n",
        "    \"DP04_0058PE\":\"pct_zero_vehicles\",\n",
        "    \"DP03_0025E\":\"mean_travel_time_minutes\",\n",
        "    \"DP03_0011PE\":\"pct_commute_drive_alone\",\n",
        "    \"DP03_0012PE\":\"pct_commute_carpool\",\n",
        "    \"DP03_0013PE\":\"pct_commute_public_transit\",\n",
        "    \"DP03_0016PE\":\"pct_commute_walk\",\n",
        "    \"DP03_0017PE\":\"pct_commute_other\",\n",
        "    \"DP03_0024PE\":\"pct_work_from_home\",\n",
        "    \"DP02_0154PE\":\"pct_broadband_sub\"\n",
        "}"
      ],
      "metadata": {
        "id": "woU5VQgSNmS7"
      },
      "execution_count": 39,
      "outputs": []
    },
    {
      "cell_type": "code",
      "source": [
        "frames = []\n",
        "for st in states.STATES:\n",
        "    geo = cd.censusgeo([('state', st.fips), ('county','*')])\n",
        "\n",
        "    df_p = cd.download(DATASET_PROFILE, YEAR, geo, VARS_PROFILE, key=API_KEY)\n",
        "    df_b = cd.download(DATASET_DETAILED, YEAR, geo, VARS_DETAILED, key=API_KEY)\n",
        "\n",
        "    df = pd.concat([df_p, df_b], axis=1)"
      ],
      "metadata": {
        "id": "J-fXoVFQrdWW"
      },
      "execution_count": 40,
      "outputs": []
    },
    {
      "cell_type": "code",
      "source": [
        "frames = []\n",
        "for st in states.STATES:\n",
        "    geo = cd.censusgeo([('state', st.fips), ('county','*')])\n",
        "    df_p = cd.download(DATASET_PROFILE,  YEAR, geo, VARS_PROFILE,  key=API_KEY)\n",
        "    df_b = cd.download(DATASET_DETAILED, YEAR, geo, VARS_DETAILED, key=API_KEY)\n",
        "    df = pd.concat([df_p, df_b], axis=1)\n",
        "\n",
        "    # get FIPS codes and names\n",
        "    state_fips = [g.geo[0][1] for g in df.index]\n",
        "    county_fips = [g.geo[1][1] for g in df.index]\n",
        "    df = df.assign(\n",
        "        state_fips=[s.zfill(2) for s in state_fips],\n",
        "        county_fips=[c.zfill(3) for c in county_fips],\n",
        "        geoid=[s.zfill(2) + c.zfill(3) for s,c in zip(state_fips, county_fips)],\n",
        "        name=[g.name for g in df.index]\n",
        "    ).reset_index(drop=True)\n",
        "\n",
        "    frames.append(df)   # inside loop\n",
        "\n",
        "acs_all = pd.concat(frames, ignore_index=True)  # outside loop\n",
        "\n",
        "# check\n",
        "print(\"Total counties:\", len(acs_all))          # expect ~3143\n",
        "print(\"Unique states:\", acs_all['state_fips'].nunique())  # expect 51"
      ],
      "metadata": {
        "colab": {
          "base_uri": "https://localhost:8080/"
        },
        "id": "dkrZQiRGrqhI",
        "outputId": "dafe78e1-dd43-4006-a1b8-e9b41b2bb943"
      },
      "execution_count": 41,
      "outputs": [
        {
          "output_type": "stream",
          "name": "stdout",
          "text": [
            "Total counties: 3143\n",
            "Unique states: 50\n"
          ]
        }
      ]
    },
    {
      "cell_type": "code",
      "source": [
        "import pandas as pd\n",
        "\n",
        "url = \"https://github.com/worldterminator/worldterminator/raw/refs/heads/main/2022_Gaz_counties_national.txt\"\n",
        "\n",
        "gaz = pd.read_csv(\n",
        "    url,\n",
        "    sep=\"\\t\",\n",
        "    dtype={\"GEOID\": str},\n",
        "    low_memory=False\n",
        ")\n",
        "\n",
        "print(\"Gazetteer shape:\", gaz.shape)\n",
        "print(\"Columns:\", list(gaz.columns)[:10])  # preview first 10 column names\n",
        "print(gaz.head(3))"
      ],
      "metadata": {
        "colab": {
          "base_uri": "https://localhost:8080/"
        },
        "id": "pE_MPbRbu3_k",
        "outputId": "bc0a74de-613f-43c3-e03f-a2fa4624a152"
      },
      "execution_count": 42,
      "outputs": [
        {
          "output_type": "stream",
          "name": "stdout",
          "text": [
            "Gazetteer shape: (3222, 10)\n",
            "Columns: ['USPS', 'GEOID', 'ANSICODE', 'NAME', 'ALAND', 'AWATER', 'ALAND_SQMI', 'AWATER_SQMI', 'INTPTLAT', 'INTPTLONG                                                                                                               ']\n",
            "  USPS  GEOID  ANSICODE            NAME       ALAND      AWATER  ALAND_SQMI  \\\n",
            "0   AL  01001    161526  Autauga County  1539631461    25677536     594.455   \n",
            "1   AL  01003    161527  Baldwin County  4117724893  1132887353    1589.863   \n",
            "2   AL  01005    161528  Barbour County  2292160151    50523213     885.008   \n",
            "\n",
            "   AWATER_SQMI   INTPTLAT  \\\n",
            "0        9.914  32.532237   \n",
            "1      437.410  30.659218   \n",
            "2       19.507  31.870253   \n",
            "\n",
            "   INTPTLONG                                                                                                                 \n",
            "0                                         -86.646440                                                                         \n",
            "1                                         -87.746067                                                                         \n",
            "2                                         -85.405104                                                                         \n"
          ]
        }
      ]
    },
    {
      "cell_type": "code",
      "source": [
        "# land area (sq mi), then we could have density\n",
        "if \"ALAND_SQMI\" in gaz.columns:\n",
        "    gaz[\"land_sqmi\"] = gaz[\"ALAND_SQMI\"]\n",
        "else:\n",
        "    gaz[\"land_sqmi\"] = gaz[\"ALAND\"] / (1609.344**2)"
      ],
      "metadata": {
        "id": "5p9PdlfNv0Wv"
      },
      "execution_count": 43,
      "outputs": []
    },
    {
      "cell_type": "code",
      "source": [
        "# merge with ACS\n",
        "acs_all = acs_all.merge(\n",
        "    gaz[[\"GEOID\",\"land_sqmi\"]],\n",
        "    left_on=\"geoid\",\n",
        "    right_on=\"GEOID\",\n",
        "    how=\"left\"\n",
        ").drop(columns=[\"GEOID\"])\n",
        "\n",
        "# calculate density\n",
        "acs_all[\"pop_total\"] = pd.to_numeric(acs_all[\"B01003_001E\"], errors=\"coerce\")\n",
        "acs_all[\"pop_density_per_sqmi\"] = acs_all[\"pop_total\"] / acs_all[\"land_sqmi\"]"
      ],
      "metadata": {
        "id": "vBNlwU1oIH45"
      },
      "execution_count": 44,
      "outputs": []
    },
    {
      "cell_type": "code",
      "source": [
        "acs_all = acs_all.rename(columns=RENAME_MAP)"
      ],
      "metadata": {
        "id": "A396SYxUJX2o"
      },
      "execution_count": 45,
      "outputs": []
    },
    {
      "cell_type": "code",
      "source": [
        "print(acs_all[[\"geoid\",\"name\",\"land_sqmi\",\"pop_density_per_sqmi\"]].head())"
      ],
      "metadata": {
        "colab": {
          "base_uri": "https://localhost:8080/"
        },
        "id": "Ra0DO70bIN4A",
        "outputId": "b5ff0443-98e2-44a3-b3f2-1e294181b89e"
      },
      "execution_count": 46,
      "outputs": [
        {
          "output_type": "stream",
          "name": "stdout",
          "text": [
            "   geoid                     name  land_sqmi  pop_density_per_sqmi\n",
            "0  01001  Autauga County, Alabama    594.455             98.848525\n",
            "1  01003  Baldwin County, Alabama   1589.863            146.817682\n",
            "2  01005  Barbour County, Alabama    885.008             28.109350\n",
            "3  01007     Bibb County, Alabama    622.470             35.746301\n",
            "4  01009   Blount County, Alabama    644.891             91.607729\n"
          ]
        }
      ]
    },
    {
      "cell_type": "code",
      "source": [
        "print(acs_all.head())"
      ],
      "metadata": {
        "colab": {
          "base_uri": "https://localhost:8080/"
        },
        "id": "ISc4Fe_XJx8-",
        "outputId": "b868c6b7-86ef-4a36-bea5-abca236bd89b"
      },
      "execution_count": 47,
      "outputs": [
        {
          "output_type": "stream",
          "name": "stdout",
          "text": [
            "   pct_under_18  pct_65plus  pct_hispanic  pct_black  pct_aian  pct_asian  \\\n",
            "0          23.4        15.6           2.2       96.8      72.6       19.6   \n",
            "1          21.2        21.2           3.7       95.2      82.3        8.3   \n",
            "2          20.7        19.8           5.2       95.2      44.6       46.9   \n",
            "3          21.2        16.8           1.0       97.1      74.2       20.7   \n",
            "4          23.0        18.3           4.6       90.3      85.7        1.2   \n",
            "\n",
            "   pct_foreign_born  pct_limited_english  pct_poverty  med_hh_income  ...  \\\n",
            "0               1.9                 96.3          8.3          68315  ...   \n",
            "1               1.0                 95.1          7.0          71039  ...   \n",
            "2               0.4                 92.1         20.8          39712  ...   \n",
            "3               1.1                 97.5         16.3          50669  ...   \n",
            "4               0.5                 92.1         10.2          57440  ...   \n",
            "\n",
            "   pct_broadband_sub  pop_total  gini_index  state_fips  county_fips  geoid  \\\n",
            "0               89.1      58761      0.4541          01          001  01001   \n",
            "1               88.9     233420      0.4648          01          003  01003   \n",
            "2               68.2      24877      0.5098          01          005  01005   \n",
            "3               79.7      22251      0.4553          01          007  01007   \n",
            "4               82.7      59077      0.4475          01          009  01009   \n",
            "\n",
            "                      name  land_sqmi  pop_total  pop_density_per_sqmi  \n",
            "0  Autauga County, Alabama    594.455      58761             98.848525  \n",
            "1  Baldwin County, Alabama   1589.863     233420            146.817682  \n",
            "2  Barbour County, Alabama    885.008      24877             28.109350  \n",
            "3     Bibb County, Alabama    622.470      22251             35.746301  \n",
            "4   Blount County, Alabama    644.891      59077             91.607729  \n",
            "\n",
            "[5 rows x 46 columns]\n"
          ]
        }
      ]
    },
    {
      "cell_type": "code",
      "source": [
        "print(\"ncols:\", len(acs_all.columns))\n",
        "print(sorted(list(acs_all.columns))[:25])   # peek first 25 names alphabetically"
      ],
      "metadata": {
        "colab": {
          "base_uri": "https://localhost:8080/"
        },
        "id": "s-ObuWbTJohv",
        "outputId": "d3b30e10-f722-40f7-95e6-7dfa0e17e7bf"
      },
      "execution_count": 48,
      "outputs": [
        {
          "output_type": "stream",
          "name": "stdout",
          "text": [
            "ncols: 46\n",
            "['county_fips', 'geoid', 'gini_index', 'housing_vacancy_rate', 'land_sqmi', 'mean_travel_time_minutes', 'med_hh_income', 'median_gross_rent', 'median_home_value', 'name', 'pct_65plus', 'pct_aian', 'pct_asian', 'pct_ba_plus', 'pct_black', 'pct_broadband_sub', 'pct_commute_carpool', 'pct_commute_drive_alone', 'pct_commute_other', 'pct_commute_public_transit', 'pct_commute_walk', 'pct_disability', 'pct_female_head_fam_with_children', 'pct_foreign_born', 'pct_hispanic']\n"
          ]
        }
      ]
    },
    {
      "cell_type": "code",
      "source": [
        "# ensure, again, the IDs are strings and correct\n",
        "acs_all[\"state_fips\"]  = acs_all[\"state_fips\"].astype(str).str.zfill(2)\n",
        "acs_all[\"county_fips\"] = acs_all[\"county_fips\"].astype(str).str.zfill(3)\n",
        "acs_all[\"geoid\"]       = acs_all[\"geoid\"].astype(str).str.zfill(5)\n",
        "\n",
        "# row counts and join coverage\n",
        "print(\"Rows (counties):\", len(acs_all))\n",
        "print(\"Missing land_sqmi:\", acs_all[\"land_sqmi\"].isna().sum())\n",
        "\n",
        "# spot checks\n",
        "for c in [\"pct_poverty\",\"pct_unemployed\",\"pct_ba_plus\",\"pct_broadband_sub\"]:\n",
        "    if c in acs_all.columns:\n",
        "        print(c, \"range:\", float(acs_all[c].min()), \"→\", float(acs_all[c].max()))"
      ],
      "metadata": {
        "colab": {
          "base_uri": "https://localhost:8080/"
        },
        "id": "yvibOZ0EKHME",
        "outputId": "0de2332e-c028-48c5-9209-63d3eacf499c"
      },
      "execution_count": 49,
      "outputs": [
        {
          "output_type": "stream",
          "name": "stdout",
          "text": [
            "Rows (counties): 3143\n",
            "Missing land_sqmi: 0\n",
            "pct_poverty range: 0.0 → 51.5\n",
            "pct_unemployed range: 0.0 → 20.9\n",
            "pct_ba_plus range: 0.0 → 78.9\n",
            "pct_broadband_sub range: 36.0 → 100.0\n"
          ]
        }
      ]
    },
    {
      "cell_type": "code",
      "source": [
        "acs_all[\"pct_broadband_sub\"].describe()\n",
        "\n",
        "\n"
      ],
      "metadata": {
        "colab": {
          "base_uri": "https://localhost:8080/",
          "height": 331
        },
        "id": "w0c6hNNXMYs4",
        "outputId": "8d931491-5ffe-441d-b17f-ce75588f8bbc"
      },
      "execution_count": 50,
      "outputs": [
        {
          "output_type": "execute_result",
          "data": {
            "text/plain": [
              "count    3143.000000\n",
              "mean       82.444257\n",
              "std         7.223620\n",
              "min        36.000000\n",
              "25%        78.700000\n",
              "50%        83.500000\n",
              "75%        87.400000\n",
              "max       100.000000\n",
              "Name: pct_broadband_sub, dtype: float64"
            ],
            "text/html": [
              "<div>\n",
              "<style scoped>\n",
              "    .dataframe tbody tr th:only-of-type {\n",
              "        vertical-align: middle;\n",
              "    }\n",
              "\n",
              "    .dataframe tbody tr th {\n",
              "        vertical-align: top;\n",
              "    }\n",
              "\n",
              "    .dataframe thead th {\n",
              "        text-align: right;\n",
              "    }\n",
              "</style>\n",
              "<table border=\"1\" class=\"dataframe\">\n",
              "  <thead>\n",
              "    <tr style=\"text-align: right;\">\n",
              "      <th></th>\n",
              "      <th>pct_broadband_sub</th>\n",
              "    </tr>\n",
              "  </thead>\n",
              "  <tbody>\n",
              "    <tr>\n",
              "      <th>count</th>\n",
              "      <td>3143.000000</td>\n",
              "    </tr>\n",
              "    <tr>\n",
              "      <th>mean</th>\n",
              "      <td>82.444257</td>\n",
              "    </tr>\n",
              "    <tr>\n",
              "      <th>std</th>\n",
              "      <td>7.223620</td>\n",
              "    </tr>\n",
              "    <tr>\n",
              "      <th>min</th>\n",
              "      <td>36.000000</td>\n",
              "    </tr>\n",
              "    <tr>\n",
              "      <th>25%</th>\n",
              "      <td>78.700000</td>\n",
              "    </tr>\n",
              "    <tr>\n",
              "      <th>50%</th>\n",
              "      <td>83.500000</td>\n",
              "    </tr>\n",
              "    <tr>\n",
              "      <th>75%</th>\n",
              "      <td>87.400000</td>\n",
              "    </tr>\n",
              "    <tr>\n",
              "      <th>max</th>\n",
              "      <td>100.000000</td>\n",
              "    </tr>\n",
              "  </tbody>\n",
              "</table>\n",
              "</div><br><label><b>dtype:</b> float64</label>"
            ]
          },
          "metadata": {},
          "execution_count": 50
        }
      ]
    },
    {
      "cell_type": "code",
      "source": [
        "acs_all.to_csv(\"acs_county_2022.csv\", index=False)"
      ],
      "metadata": {
        "id": "4dh8WKaNWbLu"
      },
      "execution_count": 51,
      "outputs": []
    }
  ]
}