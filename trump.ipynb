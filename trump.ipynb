{
  "nbformat": 4,
  "nbformat_minor": 0,
  "metadata": {
    "colab": {
      "provenance": [],
      "toc_visible": true,
      "authorship_tag": "ABX9TyOfyX4rJyoG54xbQVqhuByR",
      "include_colab_link": true
    },
    "kernelspec": {
      "name": "python3",
      "display_name": "Python 3"
    },
    "language_info": {
      "name": "python"
    }
  },
  "cells": [
    {
      "cell_type": "markdown",
      "metadata": {
        "id": "view-in-github",
        "colab_type": "text"
      },
      "source": [
        "<a href=\"https://colab.research.google.com/github/worldterminator/mess/blob/main/trump.ipynb\" target=\"_parent\"><img src=\"https://colab.research.google.com/assets/colab-badge.svg\" alt=\"Open In Colab\"/></a>"
      ]
    },
    {
      "cell_type": "markdown",
      "source": [
        "#Data import"
      ],
      "metadata": {
        "id": "l7w5XBPk_cQH"
      }
    },
    {
      "cell_type": "code",
      "execution_count": 3,
      "metadata": {
        "colab": {
          "base_uri": "https://localhost:8080/"
        },
        "id": "nLPrlvejP2eU",
        "outputId": "a5786f2d-b49b-4ef0-ab0f-6a66d15c0b80"
      },
      "outputs": [
        {
          "output_type": "stream",
          "name": "stdout",
          "text": [
            "Mounted at /content/drive\n",
            "   Durationinseconds                                      describephoto  \\\n",
            "0                 30                                                NaN   \n",
            "1                142                                            rioting   \n",
            "2                243   Terrorist acts against a duly elected government   \n",
            "3                162        People are trying to overturn our democracy   \n",
            "4                282  White supremacists under the guise of Qanon ar...   \n",
            "\n",
            "                                          whynervous feedback     IP_country  \\\n",
            "0                                                NaN      NaN  United States   \n",
            "1         Because it shows disregard for rule of law      NaN  United States   \n",
            "2  Our president is encouraging a coup and has un...      NaN  United States   \n",
            "3  I think they're trying to disregard the basis ...      NaN  United States   \n",
            "4  It is worrying that the president has encourag...      NaN  United States   \n",
            "\n",
            "   ID  \n",
            "0  66  \n",
            "1  67  \n",
            "2  68  \n",
            "3  69  \n",
            "4  70  \n"
          ]
        }
      ],
      "source": [
        "from google.colab import drive\n",
        "drive.mount('/content/drive')\n",
        "import pandas as pd\n",
        "file_path = '/content/drive/My Drive/trump.csv'\n",
        "trump = pd.read_csv(file_path)\n",
        "\n",
        "print(trump.head())"
      ]
    },
    {
      "cell_type": "markdown",
      "source": [
        "#Flag suspicious responses (decribephoto, whynervous)"
      ],
      "metadata": {
        "id": "vq7ypFXr_gM2"
      }
    },
    {
      "cell_type": "markdown",
      "source": [
        "I kept codes used to flag by the number of characters, but it's better to first tokenize and flag by minimum words. I want to both check the length of responses and whether some of them, especially the shorter ones, fail to include relevant information. A contexualized classifier could be trained with dictionaries perhaps?"
      ],
      "metadata": {
        "id": "JeijkLg8IQPt"
      }
    },
    {
      "cell_type": "markdown",
      "source": [
        "##by minimum characters\n"
      ],
      "metadata": {
        "id": "qt_V8HUI9UZl"
      }
    },
    {
      "cell_type": "code",
      "source": [
        "trump.dropna(subset=['describephoto'], inplace=True)  # drop rows without a response\n",
        "# Basic text cleaning (lowercasing, removing punctuation)\n",
        "trump['describephoto_clean'] = trump['describephoto'].str.lower().str.replace('[^\\w\\s]', '', regex=True)\n",
        "#just doing this for the whynervous variable here\n",
        "min_words = 2\n",
        "trump['flag_shortdescription'] = trump['describephoto_clean'].apply(lambda x: len(x.split()) < min_words)\n",
        "print(trump)"
      ],
      "metadata": {
        "colab": {
          "base_uri": "https://localhost:8080/"
        },
        "id": "D5-XD17JBRpa",
        "outputId": "6a3ef930-5347-4131-f681-6e78efc839c3"
      },
      "execution_count": 32,
      "outputs": [
        {
          "output_type": "stream",
          "name": "stdout",
          "text": [
            "      Durationinseconds                                      describephoto  \\\n",
            "1                   142                                            rioting   \n",
            "2                   243   terrorist acts against a duly elected government   \n",
            "3                   162        people are trying to overturn our democracy   \n",
            "4                   282  white supremacists under the guise of qanon ar...   \n",
            "5                   243  the people in the photo are attempting to brea...   \n",
            "...                 ...                                                ...   \n",
            "1266               3196  they are being sprayed by police while seeming...   \n",
            "1267                577                             protesting trumps loss   \n",
            "1268                331  taking their country back and taking action to...   \n",
            "1269               1366        reacting negatively to the election outcome   \n",
            "1277                323                                   an act of terror   \n",
            "\n",
            "                                             whynervous      feedback  \\\n",
            "1            Because it shows disregard for rule of law           NaN   \n",
            "2     Our president is encouraging a coup and has un...           NaN   \n",
            "3     I think they're trying to disregard the basis ...           NaN   \n",
            "4     It is worrying that the president has encourag...           NaN   \n",
            "5     I am nervous about violence caused by supporte...  Thank you :)   \n",
            "...                                                 ...           ...   \n",
            "1266  They make me nervous because there is a chance...           NaN   \n",
            "1267  People were protesting earlier this year, burn...           NaN   \n",
            "1268    it's invigorating. do you hear the people sing?          neat   \n",
            "1269  It makes me feel nervous because it shows how ...           NaN   \n",
            "1277  The recent protests make me very anxious becau...           NaN   \n",
            "\n",
            "         IP_country    ID                                   whynervous_clean  \\\n",
            "1     United States    67         because it shows disregard for rule of law   \n",
            "2     United States    68  our president is encouraging a coup and has un...   \n",
            "3     United States    69  i think theyre trying to disregard the basis o...   \n",
            "4     United States    70  it is worrying that the president has encourag...   \n",
            "5     United States    71  i am nervous about violence caused by supporte...   \n",
            "...             ...   ...                                                ...   \n",
            "1266            NaN  1332  they make me nervous because there is a chance...   \n",
            "1267  United States  1333  people were protesting earlier this year burni...   \n",
            "1268  United States  1334       its invigorating do you hear the people sing   \n",
            "1269  United States  1335  it makes me feel nervous because it shows how ...   \n",
            "1277  United States  1343  the recent protests make me very anxious becau...   \n",
            "\n",
            "      flag_invalid                                  whynervous_tokens  \\\n",
            "1            False                      [shows, disregard, rule, law]   \n",
            "2            False   [president, encouraging, coup, unchecked, power]   \n",
            "3            False  [think, theyre, trying, disregard, basis, syst...   \n",
            "4            False  [worrying, president, encouraged, behavior, we...   \n",
            "5            False  [nervous, violence, caused, supporters, trump,...   \n",
            "...            ...                                                ...   \n",
            "1266         False  [make, nervous, chance, erupt, violence, innoc...   \n",
            "1267         False  [people, protesting, earlier, year, burning, b...   \n",
            "1268         False                 [invigorating, hear, people, sing]   \n",
            "1269         False  [makes, feel, nervous, shows, far, pro, trump,...   \n",
            "1277         False  [recent, protests, make, anxious, scary, under...   \n",
            "\n",
            "      token_count                            whynervous_tokens_clean  \\\n",
            "1               8                      [shows, disregard, rule, law]   \n",
            "2              10   [president, encouraging, coup, unchecked, power]   \n",
            "3              13  [think, theyre, trying, disregard, basis, syst...   \n",
            "4              21  [worrying, president, encouraged, behavior, we...   \n",
            "5              50  [nervous, violence, caused, supporters, trump,...   \n",
            "...           ...                                                ...   \n",
            "1266           22  [make, nervous, chance, erupt, violence, innoc...   \n",
            "1267           30  [people, protesting, earlier, year, burning, b...   \n",
            "1268            8                 [invigorating, hear, people, sing]   \n",
            "1269           17  [makes, feel, nervous, shows, far, pro, trump,...   \n",
            "1277           21  [recent, protests, make, anxious, scary, under...   \n",
            "\n",
            "      token_count_clean                                describephoto_clean  \\\n",
            "1                     4                                            rioting   \n",
            "2                     5   terrorist acts against a duly elected government   \n",
            "3                     7        people are trying to overturn our democracy   \n",
            "4                    10  white supremacists under the guise of qanon ar...   \n",
            "5                    22  the people in the photo are attempting to brea...   \n",
            "...                 ...                                                ...   \n",
            "1266                  9  they are being sprayed by police while seeming...   \n",
            "1267                 18                             protesting trumps loss   \n",
            "1268                  4  taking their country back and taking action to...   \n",
            "1269                 10        reacting negatively to the election outcome   \n",
            "1277                 11                                   an act of terror   \n",
            "\n",
            "      flag_shortdescription  \n",
            "1                      True  \n",
            "2                     False  \n",
            "3                     False  \n",
            "4                     False  \n",
            "5                     False  \n",
            "...                     ...  \n",
            "1266                  False  \n",
            "1267                  False  \n",
            "1268                  False  \n",
            "1269                  False  \n",
            "1277                  False  \n",
            "\n",
            "[1178 rows x 14 columns]\n"
          ]
        }
      ]
    },
    {
      "cell_type": "code",
      "source": [
        "summary_stats = trump['flag_shortdescription'].describe()\n",
        "counts = trump['flag_shortdescription'].value_counts()\n",
        "print(summary_stats)\n",
        "print(counts)"
      ],
      "metadata": {
        "colab": {
          "base_uri": "https://localhost:8080/"
        },
        "id": "qaqxGeZ9CfGA",
        "outputId": "37fbd91e-71e7-4565-a7bd-05af19eae9c4"
      },
      "execution_count": 42,
      "outputs": [
        {
          "output_type": "stream",
          "name": "stdout",
          "text": [
            "count      1178\n",
            "unique        2\n",
            "top       False\n",
            "freq       1096\n",
            "Name: flag_shortdescription, dtype: object\n",
            "False    1096\n",
            "True       82\n",
            "Name: flag_shortdescription, dtype: int64\n"
          ]
        }
      ]
    },
    {
      "cell_type": "code",
      "source": [
        "# to get the IDs, filter rows where 'flag_invalid' is True and print their corresponding IDs\n",
        "shortdescription = trump[trump['flag_shortdescription'] == True]\n",
        "shortdescription_ids = shortdescription['ID'].unique()\n",
        "print(shortdescription_ids)\n",
        "# these are the IDs that had one-word decription. from here, manually inspect them or continue classification"
      ],
      "metadata": {
        "colab": {
          "base_uri": "https://localhost:8080/"
        },
        "id": "LAqG9lfBCxOo",
        "outputId": "4cd2befb-5617-40dd-8735-b48e32007391"
      },
      "execution_count": 36,
      "outputs": [
        {
          "output_type": "stream",
          "name": "stdout",
          "text": [
            "[  67   75  104  120  140  144  162  175  189  196  197  202  203  214\n",
            "  215  218  236  340  358  363  364  371  386  389  390  401  411  445\n",
            "  453  476  480  481  504  509  564  579  582  583  627  632  648  674\n",
            "  685  715  719  720  729  773  817  821  831  849  851  931  959  964\n",
            "  968  973  997 1002 1014 1015 1028 1047 1056 1073 1077 1092 1129 1137\n",
            " 1148 1175 1177 1179 1188 1200 1211 1224 1242 1247 1272 1316]\n"
          ]
        }
      ]
    },
    {
      "cell_type": "code",
      "source": [
        "specific_row = trump [trump['ID'] == 75]\n",
        "print(specific_row)"
      ],
      "metadata": {
        "colab": {
          "base_uri": "https://localhost:8080/"
        },
        "id": "dGHSKp9wDiOl",
        "outputId": "6c4edd6a-8963-4158-b7ef-924068a4d467"
      },
      "execution_count": 38,
      "outputs": [
        {
          "output_type": "stream",
          "name": "stdout",
          "text": [
            "   Durationinseconds describephoto  \\\n",
            "9                163    protesting   \n",
            "\n",
            "                                          whynervous feedback     IP_country  \\\n",
            "9  No one cared about the riots that have gone on...      NaN  United States   \n",
            "\n",
            "   ID                                   whynervous_clean  flag_invalid  \\\n",
            "9  75  no one cared about the riots that have gone on...         False   \n",
            "\n",
            "                   whynervous_tokens  token_count  \\\n",
            "9  [one, cared, riots, gone, months]           12   \n",
            "\n",
            "             whynervous_tokens_clean  token_count_clean describephoto_clean  \\\n",
            "9  [one, cared, riots, gone, months]                  5          protesting   \n",
            "\n",
            "   flag_shortdescription  \n",
            "9                   True  \n"
          ]
        }
      ]
    },
    {
      "cell_type": "code",
      "source": [
        "trump.dropna(subset=['whynervous'], inplace=True)\n",
        "# Basic text cleaning (lowercasing, removing punctuation)\n",
        "trump['whynervous_clean'] = trump['whynervous'].str.lower().str.replace('[^\\w\\s]', '', regex=True)\n",
        "#just doing this for the whynervous variable here\n",
        "min_words = 2\n",
        "trump['flag_shortwhynervous'] = trump['whynervous_clean'].apply(lambda x: len(x.split()) < min_words)\n",
        "print(trump)"
      ],
      "metadata": {
        "id": "JZM4ZQ2-XXa2",
        "colab": {
          "base_uri": "https://localhost:8080/"
        },
        "outputId": "5f54b784-da30-43ae-d404-671e3e3f47d9"
      },
      "execution_count": 39,
      "outputs": [
        {
          "output_type": "stream",
          "name": "stdout",
          "text": [
            "      Durationinseconds                                      describephoto  \\\n",
            "1                   142                                            rioting   \n",
            "2                   243   terrorist acts against a duly elected government   \n",
            "3                   162        people are trying to overturn our democracy   \n",
            "4                   282  white supremacists under the guise of qanon ar...   \n",
            "5                   243  the people in the photo are attempting to brea...   \n",
            "...                 ...                                                ...   \n",
            "1266               3196  they are being sprayed by police while seeming...   \n",
            "1267                577                             protesting trumps loss   \n",
            "1268                331  taking their country back and taking action to...   \n",
            "1269               1366        reacting negatively to the election outcome   \n",
            "1277                323                                   an act of terror   \n",
            "\n",
            "                                             whynervous      feedback  \\\n",
            "1            Because it shows disregard for rule of law           NaN   \n",
            "2     Our president is encouraging a coup and has un...           NaN   \n",
            "3     I think they're trying to disregard the basis ...           NaN   \n",
            "4     It is worrying that the president has encourag...           NaN   \n",
            "5     I am nervous about violence caused by supporte...  Thank you :)   \n",
            "...                                                 ...           ...   \n",
            "1266  They make me nervous because there is a chance...           NaN   \n",
            "1267  People were protesting earlier this year, burn...           NaN   \n",
            "1268    it's invigorating. do you hear the people sing?          neat   \n",
            "1269  It makes me feel nervous because it shows how ...           NaN   \n",
            "1277  The recent protests make me very anxious becau...           NaN   \n",
            "\n",
            "         IP_country    ID                                   whynervous_clean  \\\n",
            "1     United States    67         because it shows disregard for rule of law   \n",
            "2     United States    68  our president is encouraging a coup and has un...   \n",
            "3     United States    69  i think theyre trying to disregard the basis o...   \n",
            "4     United States    70  it is worrying that the president has encourag...   \n",
            "5     United States    71  i am nervous about violence caused by supporte...   \n",
            "...             ...   ...                                                ...   \n",
            "1266            NaN  1332  they make me nervous because there is a chance...   \n",
            "1267  United States  1333  people were protesting earlier this year burni...   \n",
            "1268  United States  1334       its invigorating do you hear the people sing   \n",
            "1269  United States  1335  it makes me feel nervous because it shows how ...   \n",
            "1277  United States  1343  the recent protests make me very anxious becau...   \n",
            "\n",
            "      flag_invalid                                  whynervous_tokens  \\\n",
            "1            False                      [shows, disregard, rule, law]   \n",
            "2            False   [president, encouraging, coup, unchecked, power]   \n",
            "3            False  [think, theyre, trying, disregard, basis, syst...   \n",
            "4            False  [worrying, president, encouraged, behavior, we...   \n",
            "5            False  [nervous, violence, caused, supporters, trump,...   \n",
            "...            ...                                                ...   \n",
            "1266         False  [make, nervous, chance, erupt, violence, innoc...   \n",
            "1267         False  [people, protesting, earlier, year, burning, b...   \n",
            "1268         False                 [invigorating, hear, people, sing]   \n",
            "1269         False  [makes, feel, nervous, shows, far, pro, trump,...   \n",
            "1277         False  [recent, protests, make, anxious, scary, under...   \n",
            "\n",
            "      token_count                            whynervous_tokens_clean  \\\n",
            "1               8                      [shows, disregard, rule, law]   \n",
            "2              10   [president, encouraging, coup, unchecked, power]   \n",
            "3              13  [think, theyre, trying, disregard, basis, syst...   \n",
            "4              21  [worrying, president, encouraged, behavior, we...   \n",
            "5              50  [nervous, violence, caused, supporters, trump,...   \n",
            "...           ...                                                ...   \n",
            "1266           22  [make, nervous, chance, erupt, violence, innoc...   \n",
            "1267           30  [people, protesting, earlier, year, burning, b...   \n",
            "1268            8                 [invigorating, hear, people, sing]   \n",
            "1269           17  [makes, feel, nervous, shows, far, pro, trump,...   \n",
            "1277           21  [recent, protests, make, anxious, scary, under...   \n",
            "\n",
            "      token_count_clean                                describephoto_clean  \\\n",
            "1                     4                                            rioting   \n",
            "2                     5   terrorist acts against a duly elected government   \n",
            "3                     7        people are trying to overturn our democracy   \n",
            "4                    10  white supremacists under the guise of qanon ar...   \n",
            "5                    22  the people in the photo are attempting to brea...   \n",
            "...                 ...                                                ...   \n",
            "1266                  9  they are being sprayed by police while seeming...   \n",
            "1267                 18                             protesting trumps loss   \n",
            "1268                  4  taking their country back and taking action to...   \n",
            "1269                 10        reacting negatively to the election outcome   \n",
            "1277                 11                                   an act of terror   \n",
            "\n",
            "      flag_shortdescription  flag_shortwhynervous  \n",
            "1                      True                 False  \n",
            "2                     False                 False  \n",
            "3                     False                 False  \n",
            "4                     False                 False  \n",
            "5                     False                 False  \n",
            "...                     ...                   ...  \n",
            "1266                  False                 False  \n",
            "1267                  False                 False  \n",
            "1268                  False                 False  \n",
            "1269                  False                 False  \n",
            "1277                  False                 False  \n",
            "\n",
            "[1178 rows x 15 columns]\n"
          ]
        }
      ]
    },
    {
      "cell_type": "code",
      "source": [
        "summary_stats = trump['flag_shortwhynervous'].describe()\n",
        "counts = trump['flag_shortwhynervous'].value_counts()\n",
        "print(summary_stats)\n",
        "print(counts)"
      ],
      "metadata": {
        "colab": {
          "base_uri": "https://localhost:8080/"
        },
        "id": "hPQDg8Y87cqx",
        "outputId": "adf3f3fd-449a-4499-9918-b99b4ce011ef"
      },
      "execution_count": 41,
      "outputs": [
        {
          "output_type": "stream",
          "name": "stdout",
          "text": [
            "count      1178\n",
            "unique        2\n",
            "top       False\n",
            "freq       1165\n",
            "Name: flag_shortwhynervous, dtype: object\n",
            "False    1165\n",
            "True       13\n",
            "Name: flag_shortwhynervous, dtype: int64\n"
          ]
        }
      ]
    },
    {
      "cell_type": "code",
      "source": [
        "shortwhynervous = trump[trump['flag_invalid'] == True]\n",
        "shortwhynervous_ids = shortwhynervous['ID'].unique()\n",
        "print(shortwhynervous_ids)"
      ],
      "metadata": {
        "colab": {
          "base_uri": "https://localhost:8080/"
        },
        "id": "AXy9jDCs8lbG",
        "outputId": "9ba0696e-2d78-46d4-c3b1-1b7b28ff9ae3"
      },
      "execution_count": 43,
      "outputs": [
        {
          "output_type": "stream",
          "name": "stdout",
          "text": [
            "[ 171  189  401  476  582  719  720  751  991 1060 1073 1148 1156]\n"
          ]
        }
      ]
    },
    {
      "cell_type": "markdown",
      "source": [
        "##by minimum tokens"
      ],
      "metadata": {
        "id": "H3UKC2VG9NXz"
      }
    },
    {
      "cell_type": "code",
      "source": [
        "import nltk\n",
        "from nltk.tokenize import word_tokenize\n",
        "from nltk.corpus import stopwords\n",
        "import string\n",
        "\n",
        "# download necessary NLTK data (*)\n",
        "nltk.download('punkt')\n",
        "nltk.download('stopwords')\n",
        "stop_words = set(stopwords.words('english'))\n",
        "\n",
        "# tokenize and clean text (remove punctuation and stop words)\n",
        "def clean_tokenize(text):\n",
        "    no_punctuation = text.translate(str.maketrans('', '', string.punctuation))\n",
        "    # tokenizing\n",
        "    tokens = word_tokenize(no_punctuation)\n",
        "    # removing stop words and lowercasing\n",
        "    return [word.lower() for word in tokens if word.lower() not in stop_words]\n",
        "\n",
        "# apply the functions\n",
        "trump['describephoto_tokens_clean'] = trump['describephoto_clean'].apply(clean_tokenize)\n",
        "# now count the tokens again\n",
        "trump['description_token_count_clean'] = trump['describephoto_tokens_clean'].apply(len)\n",
        "# filter rows based on the new token count\n",
        "data_filtered = trump[trump['description_token_count_clean'] >= 2]"
      ],
      "metadata": {
        "colab": {
          "base_uri": "https://localhost:8080/"
        },
        "id": "LSElu02kGG0A",
        "outputId": "bb5469bb-9503-4e11-a076-94fb4c6549f0"
      },
      "execution_count": 47,
      "outputs": [
        {
          "output_type": "stream",
          "name": "stderr",
          "text": [
            "[nltk_data] Downloading package punkt to /root/nltk_data...\n",
            "[nltk_data]   Package punkt is already up-to-date!\n",
            "[nltk_data] Downloading package stopwords to /root/nltk_data...\n",
            "[nltk_data]   Package stopwords is already up-to-date!\n"
          ]
        }
      ]
    },
    {
      "cell_type": "code",
      "source": [
        "data_filtered.shape"
      ],
      "metadata": {
        "colab": {
          "base_uri": "https://localhost:8080/"
        },
        "id": "P9Jvm3ZIGy9T",
        "outputId": "02022f06-062d-4a09-bda7-f106146fbaab"
      },
      "execution_count": 48,
      "outputs": [
        {
          "output_type": "execute_result",
          "data": {
            "text/plain": [
              "(1067, 17)"
            ]
          },
          "metadata": {},
          "execution_count": 48
        }
      ]
    },
    {
      "cell_type": "code",
      "source": [
        "#print out the flagged IDs\n",
        "shortdescription_token = trump[trump['token_count_clean'] < 2]\n",
        "shortdescription_token_ids = shortdescription_token['ID'].unique()\n",
        "\n",
        "print(shortdescription_token_ids)"
      ],
      "metadata": {
        "colab": {
          "base_uri": "https://localhost:8080/"
        },
        "id": "IbQlpYwuG2Hs",
        "outputId": "ebe42a37-7c66-4c8b-9094-5fc80fb84c82"
      },
      "execution_count": 49,
      "outputs": [
        {
          "output_type": "stream",
          "name": "stdout",
          "text": [
            "[ 104  171  189  190  381  401  476  582  719  720  725  751  779  790\n",
            "  991 1060 1073 1095 1108 1148 1156 1224]\n"
          ]
        }
      ]
    },
    {
      "cell_type": "code",
      "source": [
        "specific_row = trump [trump['ID'] == 719]\n",
        "print(specific_row)"
      ],
      "metadata": {
        "colab": {
          "base_uri": "https://localhost:8080/"
        },
        "id": "vPKzqzRNHAVA",
        "outputId": "c8fb5263-627b-4ecd-d556-1d7114c52585"
      },
      "execution_count": 50,
      "outputs": [
        {
          "output_type": "stream",
          "name": "stdout",
          "text": [
            "     Durationinseconds describephoto whynervous feedback     IP_country   ID  \\\n",
            "653                147           war        war     good  United States  719   \n",
            "\n",
            "    whynervous_clean  flag_invalid whynervous_tokens  token_count  \\\n",
            "653              war          True             [war]            1   \n",
            "\n",
            "    whynervous_tokens_clean  token_count_clean describephoto_clean  \\\n",
            "653                   [war]                  1                 war   \n",
            "\n",
            "     flag_shortdescription  flag_shortwhynervous describephoto_tokens_clean  \\\n",
            "653                   True                  True                      [war]   \n",
            "\n",
            "     description_token_count_clean  \n",
            "653                              1  \n"
          ]
        }
      ]
    },
    {
      "cell_type": "code",
      "source": [
        "# apply functions to whynervous\n",
        "trump['whynervous_tokens_clean'] = trump['whynervous_clean'].apply(clean_tokenize)\n",
        "# now count the tokens again\n",
        "trump['token_count_clean'] = trump['whynervous_tokens_clean'].apply(len)\n",
        "# filter rows based on the new token count\n",
        "data_filtered = trump[trump['token_count_clean'] >= 2]"
      ],
      "metadata": {
        "id": "uZEZ1CNAZstz"
      },
      "execution_count": 51,
      "outputs": []
    },
    {
      "cell_type": "code",
      "source": [
        "data_filtered.shape"
      ],
      "metadata": {
        "colab": {
          "base_uri": "https://localhost:8080/"
        },
        "id": "FAi1pQYR9zS3",
        "outputId": "d45549a1-df3e-4b98-f9f0-84adda42ebf5"
      },
      "execution_count": 52,
      "outputs": [
        {
          "output_type": "execute_result",
          "data": {
            "text/plain": [
              "(1156, 17)"
            ]
          },
          "metadata": {},
          "execution_count": 52
        }
      ]
    },
    {
      "cell_type": "code",
      "source": [
        "#print out the flagged IDs\n",
        "shortwhynervous_token = trump[trump['token_count_clean'] < 2]\n",
        "shortwhynervous_token_ids = shortwhynervous_token['ID'].unique()\n",
        "\n",
        "print(shortwhynervous_token_ids)"
      ],
      "metadata": {
        "colab": {
          "base_uri": "https://localhost:8080/"
        },
        "id": "OHYQwHiV_vtM",
        "outputId": "e2e8a4f5-3824-4490-bc12-b5ad4768f24b"
      },
      "execution_count": 53,
      "outputs": [
        {
          "output_type": "stream",
          "name": "stdout",
          "text": [
            "[ 104  171  189  190  381  401  476  582  719  720  725  751  779  790\n",
            "  991 1060 1073 1095 1108 1148 1156 1224]\n"
          ]
        }
      ]
    },
    {
      "cell_type": "markdown",
      "source": [
        "## by irrelevant semantic (train a model on specifics)\n"
      ],
      "metadata": {
        "id": "En8HbzITHO21"
      }
    },
    {
      "cell_type": "code",
      "source": [],
      "metadata": {
        "id": "t-17xQkLHYRr"
      },
      "execution_count": null,
      "outputs": []
    }
  ]
}