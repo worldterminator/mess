{
  "nbformat": 4,
  "nbformat_minor": 0,
  "metadata": {
    "colab": {
      "provenance": [],
      "authorship_tag": "ABX9TyOQl8JMcSmxXCshyhMvmreo",
      "include_colab_link": true
    },
    "kernelspec": {
      "name": "python3",
      "display_name": "Python 3"
    },
    "language_info": {
      "name": "python"
    }
  },
  "cells": [
    {
      "cell_type": "markdown",
      "metadata": {
        "id": "view-in-github",
        "colab_type": "text"
      },
      "source": [
        "<a href=\"https://colab.research.google.com/github/worldterminator/mess/blob/main/trump.ipynb\" target=\"_parent\"><img src=\"https://colab.research.google.com/assets/colab-badge.svg\" alt=\"Open In Colab\"/></a>"
      ]
    },
    {
      "cell_type": "code",
      "execution_count": 3,
      "metadata": {
        "colab": {
          "base_uri": "https://localhost:8080/"
        },
        "id": "nLPrlvejP2eU",
        "outputId": "a5786f2d-b49b-4ef0-ab0f-6a66d15c0b80"
      },
      "outputs": [
        {
          "output_type": "stream",
          "name": "stdout",
          "text": [
            "Mounted at /content/drive\n",
            "   Durationinseconds                                      describephoto  \\\n",
            "0                 30                                                NaN   \n",
            "1                142                                            rioting   \n",
            "2                243   Terrorist acts against a duly elected government   \n",
            "3                162        People are trying to overturn our democracy   \n",
            "4                282  White supremacists under the guise of Qanon ar...   \n",
            "\n",
            "                                          whynervous feedback     IP_country  \\\n",
            "0                                                NaN      NaN  United States   \n",
            "1         Because it shows disregard for rule of law      NaN  United States   \n",
            "2  Our president is encouraging a coup and has un...      NaN  United States   \n",
            "3  I think they're trying to disregard the basis ...      NaN  United States   \n",
            "4  It is worrying that the president has encourag...      NaN  United States   \n",
            "\n",
            "   ID  \n",
            "0  66  \n",
            "1  67  \n",
            "2  68  \n",
            "3  69  \n",
            "4  70  \n"
          ]
        }
      ],
      "source": [
        "from google.colab import drive\n",
        "drive.mount('/content/drive')\n",
        "import pandas as pd\n",
        "file_path = '/content/drive/My Drive/trump.csv'\n",
        "trump = pd.read_csv(file_path)\n",
        "\n",
        "print(trump.head())"
      ]
    },
    {
      "cell_type": "code",
      "source": [
        "trump.dropna(subset=['whynervous'], inplace=True)  # dropping rows without a response\n",
        "# Basic text cleaning (lowercasing, removing punctuation)\n",
        "trump['whynervous_clean'] = trump['whynervous'].str.lower().str.replace('[^\\w\\s]', '', regex=True)\n",
        "\n",
        "min_words = 3\n",
        "trump['flag_invalid'] = trump['whynervous_clean'].apply(lambda x: len(x.split()) < min_words)\n",
        "print(trump)"
      ],
      "metadata": {
        "id": "JZM4ZQ2-XXa2",
        "outputId": "d3727798-f59d-4d4d-9d06-25fd377fa0fe",
        "colab": {
          "base_uri": "https://localhost:8080/"
        }
      },
      "execution_count": 12,
      "outputs": [
        {
          "output_type": "stream",
          "name": "stdout",
          "text": [
            "      Durationinseconds                                      describephoto  \\\n",
            "1                   142                                            rioting   \n",
            "2                   243   Terrorist acts against a duly elected government   \n",
            "3                   162        People are trying to overturn our democracy   \n",
            "4                   282  White supremacists under the guise of Qanon ar...   \n",
            "5                   243  The people in the photo are attempting to brea...   \n",
            "...                 ...                                                ...   \n",
            "1266               3196  They are being sprayed by police while seeming...   \n",
            "1267                577                            Protesting Trumps loss.   \n",
            "1268                331  taking their country back and taking action to...   \n",
            "1269               1366        Reacting negatively to the election outcome   \n",
            "1277                323                                  an act of terror.   \n",
            "\n",
            "                                             whynervous      feedback  \\\n",
            "1            Because it shows disregard for rule of law           NaN   \n",
            "2     Our president is encouraging a coup and has un...           NaN   \n",
            "3     I think they're trying to disregard the basis ...           NaN   \n",
            "4     It is worrying that the president has encourag...           NaN   \n",
            "5     I am nervous about violence caused by supporte...  Thank you :)   \n",
            "...                                                 ...           ...   \n",
            "1266  They make me nervous because there is a chance...           NaN   \n",
            "1267  People were protesting earlier this year, burn...           NaN   \n",
            "1268    it's invigorating. do you hear the people sing?          neat   \n",
            "1269  It makes me feel nervous because it shows how ...           NaN   \n",
            "1277  The recent protests make me very anxious becau...           NaN   \n",
            "\n",
            "         IP_country    ID                                   whynervous_clean  \\\n",
            "1     United States    67         because it shows disregard for rule of law   \n",
            "2     United States    68  our president is encouraging a coup and has un...   \n",
            "3     United States    69  i think theyre trying to disregard the basis o...   \n",
            "4     United States    70  it is worrying that the president has encourag...   \n",
            "5     United States    71  i am nervous about violence caused by supporte...   \n",
            "...             ...   ...                                                ...   \n",
            "1266            NaN  1332  they make me nervous because there is a chance...   \n",
            "1267  United States  1333  people were protesting earlier this year burni...   \n",
            "1268  United States  1334       its invigorating do you hear the people sing   \n",
            "1269  United States  1335  it makes me feel nervous because it shows how ...   \n",
            "1277  United States  1343  the recent protests make me very anxious becau...   \n",
            "\n",
            "      flag_invalid  \n",
            "1            False  \n",
            "2            False  \n",
            "3            False  \n",
            "4            False  \n",
            "5            False  \n",
            "...            ...  \n",
            "1266         False  \n",
            "1267         False  \n",
            "1268         False  \n",
            "1269         False  \n",
            "1277         False  \n",
            "\n",
            "[1180 rows x 8 columns]\n"
          ]
        }
      ]
    },
    {
      "cell_type": "code",
      "source": [
        "summary_stats = trump['flag_invalid'].describe()\n",
        "invalid_valid_counts = trump['flag_invalid'].value_counts()\n",
        "print(summary_stats)\n",
        "print(invalid_valid_counts)"
      ],
      "metadata": {
        "id": "hPQDg8Y87cqx",
        "outputId": "91db12f7-ba15-4bc4-e6be-67286d653910",
        "colab": {
          "base_uri": "https://localhost:8080/"
        }
      },
      "execution_count": 13,
      "outputs": [
        {
          "output_type": "stream",
          "name": "stdout",
          "text": [
            "count      1180\n",
            "unique        2\n",
            "top       False\n",
            "freq       1157\n",
            "Name: flag_invalid, dtype: object\n",
            "False    1157\n",
            "True       23\n",
            "Name: flag_invalid, dtype: int64\n"
          ]
        }
      ]
    },
    {
      "cell_type": "code",
      "source": [
        "import nltk\n",
        "from nltk.tokenize import word_tokenize\n",
        "\n",
        "# Download necessary NLTK data (do this once)\n",
        "nltk.download('punkt')\n",
        "\n",
        "# Tokenizing responses\n",
        "data['whynervous_tokens'] = data['whynervous_clean'].apply(word_tokenize)\n",
        "\n",
        "# Example of further analysis: Counting tokens in each response\n",
        "data['token_count'] = data['whynervous_tokens'].apply(len)\n",
        "# Filtering rows where the token count is 3 or more\n",
        "data_filtered = data[data['token_count'] >= 3]\n"
      ],
      "metadata": {
        "id": "uZEZ1CNAZstz"
      },
      "execution_count": null,
      "outputs": []
    },
    {
      "cell_type": "markdown",
      "source": [
        "removing stop words might be less necessary for flagging bad responses but could help preparing the filtered data for later analysis...codes that include re"
      ],
      "metadata": {
        "id": "oBVS_nvWacNp"
      }
    },
    {
      "cell_type": "code",
      "source": [
        "from nltk.corpus import stopwords\n",
        "import string\n",
        "\n",
        "# Download necessary NLTK data\n",
        "nltk.download('punkt')\n",
        "nltk.download('stopwords')\n",
        "\n",
        "# Set of English stop words\n",
        "stop_words = set(stopwords.words('english'))\n",
        "\n",
        "# Function to tokenize and clean text (remove punctuation and stop words)\n",
        "def clean_tokenize(text):\n",
        "    # Removing punctuation\n",
        "    no_punctuation = text.translate(str.maketrans('', '', string.punctuation))\n",
        "    # Tokenizing\n",
        "    tokens = word_tokenize(no_punctuation)\n",
        "    # Removing stop words and lowercasing\n",
        "    return [word.lower() for word in tokens if word.lower() not in stop_words]\n",
        "\n",
        "# Applying the cleaning and tokenization function\n",
        "data['whynervous_tokens_clean'] = data['whynervous_clean'].apply(clean_tokenize)\n",
        "\n",
        "# Counting tokens again (after removing stop words and punctuation)\n",
        "data['token_count_clean'] = data['whynervous_tokens_clean'].apply(len)\n",
        "\n",
        "# Filtering rows based on the new token count\n",
        "data_filtered = data[data['token_count_clean'] >= 3]\n"
      ],
      "metadata": {
        "id": "czESxIvxaZVi"
      },
      "execution_count": null,
      "outputs": []
    }
  ]
}