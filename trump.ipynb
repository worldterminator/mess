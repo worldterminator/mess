{
  "nbformat": 4,
  "nbformat_minor": 0,
  "metadata": {
    "colab": {
      "provenance": [],
      "toc_visible": true,
      "authorship_tag": "ABX9TyP+nLJ9xK/Xox85ruap6XII",
      "include_colab_link": true
    },
    "kernelspec": {
      "name": "python3",
      "display_name": "Python 3"
    },
    "language_info": {
      "name": "python"
    }
  },
  "cells": [
    {
      "cell_type": "markdown",
      "metadata": {
        "id": "view-in-github",
        "colab_type": "text"
      },
      "source": [
        "<a href=\"https://colab.research.google.com/github/worldterminator/mess/blob/main/trump.ipynb\" target=\"_parent\"><img src=\"https://colab.research.google.com/assets/colab-badge.svg\" alt=\"Open In Colab\"/></a>"
      ]
    },
    {
      "cell_type": "markdown",
      "source": [
        "#Data import"
      ],
      "metadata": {
        "id": "l7w5XBPk_cQH"
      }
    },
    {
      "cell_type": "code",
      "execution_count": 3,
      "metadata": {
        "colab": {
          "base_uri": "https://localhost:8080/"
        },
        "id": "nLPrlvejP2eU",
        "outputId": "a5786f2d-b49b-4ef0-ab0f-6a66d15c0b80"
      },
      "outputs": [
        {
          "output_type": "stream",
          "name": "stdout",
          "text": [
            "Mounted at /content/drive\n",
            "   Durationinseconds                                      describephoto  \\\n",
            "0                 30                                                NaN   \n",
            "1                142                                            rioting   \n",
            "2                243   Terrorist acts against a duly elected government   \n",
            "3                162        People are trying to overturn our democracy   \n",
            "4                282  White supremacists under the guise of Qanon ar...   \n",
            "\n",
            "                                          whynervous feedback     IP_country  \\\n",
            "0                                                NaN      NaN  United States   \n",
            "1         Because it shows disregard for rule of law      NaN  United States   \n",
            "2  Our president is encouraging a coup and has un...      NaN  United States   \n",
            "3  I think they're trying to disregard the basis ...      NaN  United States   \n",
            "4  It is worrying that the president has encourag...      NaN  United States   \n",
            "\n",
            "   ID  \n",
            "0  66  \n",
            "1  67  \n",
            "2  68  \n",
            "3  69  \n",
            "4  70  \n"
          ]
        }
      ],
      "source": [
        "from google.colab import drive\n",
        "drive.mount('/content/drive')\n",
        "import pandas as pd\n",
        "file_path = '/content/drive/My Drive/trump.csv'\n",
        "trump = pd.read_csv(file_path)\n",
        "\n",
        "print(trump.head())"
      ]
    },
    {
      "cell_type": "markdown",
      "source": [
        "#Flagging bad responses"
      ],
      "metadata": {
        "id": "vq7ypFXr_gM2"
      }
    },
    {
      "cell_type": "markdown",
      "source": [
        "##Flag by minimum characters"
      ],
      "metadata": {
        "id": "qt_V8HUI9UZl"
      }
    },
    {
      "cell_type": "code",
      "source": [
        "trump.dropna(subset=['whynervous'], inplace=True)  # dropping rows without a response\n",
        "# Basic text cleaning (lowercasing, removing punctuation)\n",
        "trump['whynervous_clean'] = trump['whynervous'].str.lower().str.replace('[^\\w\\s]', '', regex=True)\n",
        "#just doing this for the whynervous variable here\n",
        "min_words = 2\n",
        "trump['flag_invalid'] = trump['whynervous_clean'].apply(lambda x: len(x.split()) < min_words)\n",
        "print(trump)"
      ],
      "metadata": {
        "id": "JZM4ZQ2-XXa2",
        "colab": {
          "base_uri": "https://localhost:8080/"
        },
        "outputId": "7fd0cbd5-f259-4d1e-ba10-d3bb204e748d"
      },
      "execution_count": 27,
      "outputs": [
        {
          "output_type": "stream",
          "name": "stdout",
          "text": [
            "      Durationinseconds                                      describephoto  \\\n",
            "1                   142                                            rioting   \n",
            "2                   243   Terrorist acts against a duly elected government   \n",
            "3                   162        People are trying to overturn our democracy   \n",
            "4                   282  White supremacists under the guise of Qanon ar...   \n",
            "5                   243  The people in the photo are attempting to brea...   \n",
            "...                 ...                                                ...   \n",
            "1266               3196  They are being sprayed by police while seeming...   \n",
            "1267                577                            Protesting Trumps loss.   \n",
            "1268                331  taking their country back and taking action to...   \n",
            "1269               1366        Reacting negatively to the election outcome   \n",
            "1277                323                                  an act of terror.   \n",
            "\n",
            "                                             whynervous      feedback  \\\n",
            "1            Because it shows disregard for rule of law           NaN   \n",
            "2     Our president is encouraging a coup and has un...           NaN   \n",
            "3     I think they're trying to disregard the basis ...           NaN   \n",
            "4     It is worrying that the president has encourag...           NaN   \n",
            "5     I am nervous about violence caused by supporte...  Thank you :)   \n",
            "...                                                 ...           ...   \n",
            "1266  They make me nervous because there is a chance...           NaN   \n",
            "1267  People were protesting earlier this year, burn...           NaN   \n",
            "1268    it's invigorating. do you hear the people sing?          neat   \n",
            "1269  It makes me feel nervous because it shows how ...           NaN   \n",
            "1277  The recent protests make me very anxious becau...           NaN   \n",
            "\n",
            "         IP_country    ID                                   whynervous_clean  \\\n",
            "1     United States    67         because it shows disregard for rule of law   \n",
            "2     United States    68  our president is encouraging a coup and has un...   \n",
            "3     United States    69  i think theyre trying to disregard the basis o...   \n",
            "4     United States    70  it is worrying that the president has encourag...   \n",
            "5     United States    71  i am nervous about violence caused by supporte...   \n",
            "...             ...   ...                                                ...   \n",
            "1266            NaN  1332  they make me nervous because there is a chance...   \n",
            "1267  United States  1333  people were protesting earlier this year burni...   \n",
            "1268  United States  1334       its invigorating do you hear the people sing   \n",
            "1269  United States  1335  it makes me feel nervous because it shows how ...   \n",
            "1277  United States  1343  the recent protests make me very anxious becau...   \n",
            "\n",
            "      flag_invalid                                  whynervous_tokens  \\\n",
            "1            False                      [shows, disregard, rule, law]   \n",
            "2            False   [president, encouraging, coup, unchecked, power]   \n",
            "3            False  [think, theyre, trying, disregard, basis, syst...   \n",
            "4            False  [worrying, president, encouraged, behavior, we...   \n",
            "5            False  [nervous, violence, caused, supporters, trump,...   \n",
            "...            ...                                                ...   \n",
            "1266         False  [make, nervous, chance, erupt, violence, innoc...   \n",
            "1267         False  [people, protesting, earlier, year, burning, b...   \n",
            "1268         False                 [invigorating, hear, people, sing]   \n",
            "1269         False  [makes, feel, nervous, shows, far, pro, trump,...   \n",
            "1277         False  [recent, protests, make, anxious, scary, under...   \n",
            "\n",
            "      token_count                            whynervous_tokens_clean  \\\n",
            "1               8                      [shows, disregard, rule, law]   \n",
            "2              10   [president, encouraging, coup, unchecked, power]   \n",
            "3              13  [think, theyre, trying, disregard, basis, syst...   \n",
            "4              21  [worrying, president, encouraged, behavior, we...   \n",
            "5              50  [nervous, violence, caused, supporters, trump,...   \n",
            "...           ...                                                ...   \n",
            "1266           22  [make, nervous, chance, erupt, violence, innoc...   \n",
            "1267           30  [people, protesting, earlier, year, burning, b...   \n",
            "1268            8                 [invigorating, hear, people, sing]   \n",
            "1269           17  [makes, feel, nervous, shows, far, pro, trump,...   \n",
            "1277           21  [recent, protests, make, anxious, scary, under...   \n",
            "\n",
            "      token_count_clean  \n",
            "1                     4  \n",
            "2                     5  \n",
            "3                     7  \n",
            "4                    10  \n",
            "5                    22  \n",
            "...                 ...  \n",
            "1266                  9  \n",
            "1267                 18  \n",
            "1268                  4  \n",
            "1269                 10  \n",
            "1277                 11  \n",
            "\n",
            "[1180 rows x 12 columns]\n"
          ]
        }
      ]
    },
    {
      "cell_type": "code",
      "source": [
        "summary_stats = trump['flag_invalid'].describe()\n",
        "invalid_valid_counts = trump['flag_invalid'].value_counts()\n",
        "print(summary_stats)\n",
        "print(invalid_valid_counts)"
      ],
      "metadata": {
        "colab": {
          "base_uri": "https://localhost:8080/"
        },
        "id": "hPQDg8Y87cqx",
        "outputId": "5d02e855-4508-486a-a5af-8ce1cdab6b53"
      },
      "execution_count": 28,
      "outputs": [
        {
          "output_type": "stream",
          "name": "stdout",
          "text": [
            "count      1180\n",
            "unique        2\n",
            "top       False\n",
            "freq       1167\n",
            "Name: flag_invalid, dtype: object\n",
            "False    1167\n",
            "True       13\n",
            "Name: flag_invalid, dtype: int64\n"
          ]
        }
      ]
    },
    {
      "cell_type": "code",
      "source": [
        "# to get the IDs, filter rows where 'flag_invalid' is True and print their corresponding IDs\n",
        "invalid_responses = trump[trump['flag_invalid'] == True]\n",
        "invalid_response_ids = invalid_responses['ID'].unique()\n",
        "\n",
        "print(invalid_response_ids)\n"
      ],
      "metadata": {
        "colab": {
          "base_uri": "https://localhost:8080/"
        },
        "id": "AXy9jDCs8lbG",
        "outputId": "9d30745e-1423-446c-ec14-8af58efd51d7"
      },
      "execution_count": 29,
      "outputs": [
        {
          "output_type": "stream",
          "name": "stdout",
          "text": [
            "[ 171  189  401  476  582  719  720  751  991 1060 1073 1148 1156]\n"
          ]
        }
      ]
    },
    {
      "cell_type": "markdown",
      "source": [
        "##Flag by minimum words"
      ],
      "metadata": {
        "id": "H3UKC2VG9NXz"
      }
    },
    {
      "cell_type": "code",
      "source": [
        "import nltk\n",
        "from nltk.tokenize import word_tokenize\n",
        "from nltk.corpus import stopwords\n",
        "import string\n",
        "\n",
        "# download necessary NLTK data (*)\n",
        "nltk.download('punkt')\n",
        "nltk.download('stopwords')\n",
        "stop_words = set(stopwords.words('english'))\n",
        "\n",
        "# tokenize and clean text (remove punctuation and stop words)\n",
        "def clean_tokenize(text):\n",
        "    no_punctuation = text.translate(str.maketrans('', '', string.punctuation))\n",
        "    # tokenizing\n",
        "    tokens = word_tokenize(no_punctuation)\n",
        "    # removing stop words and lowercasing\n",
        "    return [word.lower() for word in tokens if word.lower() not in stop_words]\n",
        "\n",
        "# apply the functions\n",
        "trump['whynervous_tokens_clean'] = trump['whynervous_clean'].apply(clean_tokenize)\n",
        "\n",
        "# now count the tokens again\n",
        "trump['token_count_clean'] = trump['whynervous_tokens_clean'].apply(len)\n",
        "\n",
        "# Filtering rows based on the new token count\n",
        "data_filtered = trump[trump['token_count_clean'] >= 2]"
      ],
      "metadata": {
        "id": "uZEZ1CNAZstz",
        "colab": {
          "base_uri": "https://localhost:8080/"
        },
        "outputId": "a1a3d619-cc67-4484-cb1b-f93748e91ddc"
      },
      "execution_count": 24,
      "outputs": [
        {
          "output_type": "stream",
          "name": "stderr",
          "text": [
            "[nltk_data] Downloading package punkt to /root/nltk_data...\n",
            "[nltk_data]   Package punkt is already up-to-date!\n",
            "[nltk_data] Downloading package stopwords to /root/nltk_data...\n",
            "[nltk_data]   Package stopwords is already up-to-date!\n"
          ]
        }
      ]
    },
    {
      "cell_type": "code",
      "source": [
        "data_filtered.shape"
      ],
      "metadata": {
        "colab": {
          "base_uri": "https://localhost:8080/"
        },
        "id": "FAi1pQYR9zS3",
        "outputId": "8723233b-b60a-497f-e5a3-291fdb058f2d"
      },
      "execution_count": 25,
      "outputs": [
        {
          "output_type": "execute_result",
          "data": {
            "text/plain": [
              "(1157, 12)"
            ]
          },
          "metadata": {},
          "execution_count": 25
        }
      ]
    },
    {
      "cell_type": "code",
      "source": [
        "#again, print out the flagged IDs\n",
        "invalid_responses = trump[trump['token_count_clean'] < 2]\n",
        "invalid_response_ids = invalid_responses['ID'].unique()\n",
        "\n",
        "print(invalid_response_ids)"
      ],
      "metadata": {
        "colab": {
          "base_uri": "https://localhost:8080/"
        },
        "id": "OHYQwHiV_vtM",
        "outputId": "3b785573-67aa-4603-f3e6-d99aad34ed9f"
      },
      "execution_count": 30,
      "outputs": [
        {
          "output_type": "stream",
          "name": "stdout",
          "text": [
            "[ 104  171  189  190  381  401  476  489  582  719  720  725  751  779\n",
            "  790  991 1060 1073 1095 1108 1148 1156 1224]\n"
          ]
        }
      ]
    }
  ]
}